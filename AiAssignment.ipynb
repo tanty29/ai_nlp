{
 "cells": [
  {
   "cell_type": "code",
   "execution_count": 1,
   "id": "70bd3860-e898-4bcb-9dc4-1e03f5a0daca",
   "metadata": {},
   "outputs": [],
   "source": [
    "!pip install -q scikit-learn pandas numpy matplotlib joblib nltk"
   ]
  },
  {
   "cell_type": "code",
   "execution_count": 2,
   "id": "e02be7db-7f5d-48ff-a216-eca6aedb88d4",
   "metadata": {},
   "outputs": [],
   "source": [
    "from pathlib import Path\n",
    "import re, string, json\n",
    "import numpy as np\n",
    "import pandas as pd\n",
    "import matplotlib.pyplot as plt\n",
    "\n",
    "from sklearn.feature_extraction.text import TfidfVectorizer\n",
    "from sklearn.model_selection import train_test_split, StratifiedKFold, GridSearchCV\n",
    "from sklearn.naive_bayes import MultinomialNB\n",
    "from sklearn.svm import LinearSVC\n",
    "from sklearn.neighbors import KNeighborsClassifier\n",
    "from sklearn.pipeline import Pipeline\n",
    "from sklearn.metrics import (accuracy_score, precision_score, recall_score, f1_score,\n",
    "                             classification_report, confusion_matrix, ConfusionMatrixDisplay)\n",
    "import joblib\n",
    "\n",
    "# Optional lemmatization (off by default; turn on later to compare)\n",
    "USE_LEMMATIZATION = False\n",
    "try:\n",
    "    import nltk\n",
    "    from nltk.stem import WordNetLemmatizer\n",
    "    _HAS_NLTK = True\n",
    "    lemmatizer = WordNetLemmatizer()\n",
    "except Exception:\n",
    "    _HAS_NLTK = False\n",
    "    lemmatizer = None\n",
    "\n",
    "RANDOM_STATE = 42\n",
    "TEST_SIZE = 0.2\n",
    "N_SPLITS = 5\n",
    "\n",
    "# Point to your dataset (must have columns: text,label)\n",
    "DATA_CSV = Path(r\"C:\\Users\\Admin\\IMDBDataset.csv\")\n",
    "OUT_DIR = Path(\"outputs\"); OUT_DIR.mkdir(exist_ok=True)\n",
    "MODEL_DIR = Path(\"models\"); MODEL_DIR.mkdir(exist_ok=True)"
   ]
  },
  {
   "cell_type": "code",
   "execution_count": 3,
   "id": "f17c4d4c-d2db-4cce-95fc-4be85bb1575d",
   "metadata": {},
   "outputs": [],
   "source": [
    "if USE_LEMMATIZATION and _HAS_NLTK:\n",
    "    try:\n",
    "        nltk.data.find('corpora/wordnet')\n",
    "    except LookupError:\n",
    "        nltk.download('wordnet', quiet=True)\n",
    "    try:\n",
    "        nltk.data.find('corpora/omw-1.4')\n",
    "    except LookupError:\n",
    "        nltk.download('omw-1.4', quiet=True)"
   ]
  },
  {
   "cell_type": "code",
   "execution_count": 4,
   "id": "26ef2f61-0054-4a1d-9f7e-d951b825f187",
   "metadata": {},
   "outputs": [],
   "source": [
    "_PUNCT_TABLE = str.maketrans(\"\", \"\", string.punctuation)\n",
    "\n",
    "def simple_clean(text: str) -> str:\n",
    "    if not isinstance(text, str):\n",
    "        return \"\"\n",
    "    t = text.lower()\n",
    "    t = t.translate(_PUNCT_TABLE)\n",
    "    t = re.sub(r\"\\s+\", \" \", t).strip()\n",
    "    return t\n",
    "\n",
    "def lemmatize_text(text: str) -> str:\n",
    "    if not USE_LEMMATIZATION or not _HAS_NLTK or lemmatizer is None:\n",
    "        return text\n",
    "    tokens = text.split()\n",
    "    lemmas = [lemmatizer.lemmatize(tok) for tok in tokens]\n",
    "    return \" \".join(lemmas)\n",
    "\n",
    "def preprocess_series(s: pd.Series) -> pd.Series:\n",
    "    s = s.fillna(\"\").astype(str).map(simple_clean)\n",
    "    if USE_LEMMATIZATION and _HAS_NLTK:\n",
    "        s = s.map(lemmatize_text)\n",
    "    return s"
   ]
  },
  {
   "cell_type": "code",
   "execution_count": 5,
   "id": "06cd3c4c-ffc2-4b91-9054-e34a27e59fdb",
   "metadata": {},
   "outputs": [
    {
     "data": {
      "text/html": [
       "<div>\n",
       "<style scoped>\n",
       "    .dataframe tbody tr th:only-of-type {\n",
       "        vertical-align: middle;\n",
       "    }\n",
       "\n",
       "    .dataframe tbody tr th {\n",
       "        vertical-align: top;\n",
       "    }\n",
       "\n",
       "    .dataframe thead th {\n",
       "        text-align: right;\n",
       "    }\n",
       "</style>\n",
       "<table border=\"1\" class=\"dataframe\">\n",
       "  <thead>\n",
       "    <tr style=\"text-align: right;\">\n",
       "      <th></th>\n",
       "      <th>text</th>\n",
       "      <th>label</th>\n",
       "    </tr>\n",
       "  </thead>\n",
       "  <tbody>\n",
       "    <tr>\n",
       "      <th>0</th>\n",
       "      <td>One of the other reviewers has mentioned that ...</td>\n",
       "      <td>positive</td>\n",
       "    </tr>\n",
       "    <tr>\n",
       "      <th>1</th>\n",
       "      <td>A wonderful little production. &lt;br /&gt;&lt;br /&gt;The...</td>\n",
       "      <td>positive</td>\n",
       "    </tr>\n",
       "    <tr>\n",
       "      <th>2</th>\n",
       "      <td>I thought this was a wonderful way to spend ti...</td>\n",
       "      <td>positive</td>\n",
       "    </tr>\n",
       "    <tr>\n",
       "      <th>3</th>\n",
       "      <td>Basically there's a family where a little boy ...</td>\n",
       "      <td>negative</td>\n",
       "    </tr>\n",
       "    <tr>\n",
       "      <th>4</th>\n",
       "      <td>Petter Mattei's \"Love in the Time of Money\" is...</td>\n",
       "      <td>positive</td>\n",
       "    </tr>\n",
       "  </tbody>\n",
       "</table>\n",
       "</div>"
      ],
      "text/plain": [
       "                                                text     label\n",
       "0  One of the other reviewers has mentioned that ...  positive\n",
       "1  A wonderful little production. <br /><br />The...  positive\n",
       "2  I thought this was a wonderful way to spend ti...  positive\n",
       "3  Basically there's a family where a little boy ...  negative\n",
       "4  Petter Mattei's \"Love in the Time of Money\" is...  positive"
      ]
     },
     "execution_count": 5,
     "metadata": {},
     "output_type": "execute_result"
    }
   ],
   "source": [
    "if not DATA_CSV.exists():\n",
    "    # Quick fallback: create a tiny sample to verify everything works\n",
    "    sample = pd.DataFrame({\n",
    "        \"text\": [\n",
    "            \"I absolutely loved this movie!\", \"Terrible product, very disappointed.\",\n",
    "            \"Great value for money.\", \"Worst service ever.\", \"Amazing quality and fast delivery!\"\n",
    "        ],\n",
    "        \"label\": [\"positive\",\"negative\",\"positive\",\"negative\",\"positive\"]\n",
    "    })\n",
    "    DATA_CSV.parent.mkdir(parents=True, exist_ok=True)\n",
    "    sample.to_csv(DATA_CSV, index=False)\n",
    "    print(f\"Created sample dataset at {DATA_CSV.resolve()}\")\n",
    "\n",
    "df_raw = pd.read_csv(DATA_CSV)\n",
    "\n",
    "# find columns\n",
    "text_col = next((c for c in df_raw.columns if c.lower() in {\"text\",\"review\",\"content\",\"sentence\",\"comment\"}), None)\n",
    "label_col = next((c for c in df_raw.columns if c.lower() in {\"label\",\"sentiment\",\"target\",\"polarity\"}), None)\n",
    "if text_col is None or label_col is None:\n",
    "    raise ValueError(\"CSV must have columns like text/review/content and label/sentiment/target.\")\n",
    "\n",
    "df = df_raw[[text_col, label_col]].rename(columns={text_col:\"text\", label_col:\"label\"})\n",
    "df.head()"
   ]
  },
  {
   "cell_type": "code",
   "execution_count": 6,
   "id": "dc10d9c3-94fc-4557-b752-14e169efcd87",
   "metadata": {},
   "outputs": [],
   "source": [
    "X = preprocess_series(df[\"text\"])\n",
    "y = df[\"label\"].astype(str)\n",
    "\n",
    "X_train, X_test, y_train, y_test = train_test_split(\n",
    "    X, y, test_size=TEST_SIZE, random_state=RANDOM_STATE, stratify=y\n",
    ")\n",
    "\n",
    "vectorizer = TfidfVectorizer(\n",
    "    min_df=2,\n",
    "    max_df=0.95,\n",
    "    ngram_range=(1,2),\n",
    "    sublinear_tf=True,\n",
    "    strip_accents='unicode',\n",
    ")\n",
    "\n",
    "models = {\n",
    "    \"NaiveBayes\": MultinomialNB(),\n",
    "    \"LinearSVM\": LinearSVC(),\n",
    "    \"KNN\": KNeighborsClassifier(),\n",
    "}\n",
    "\n",
    "param_grids = {\n",
    "    \"NaiveBayes\": {\"clf__alpha\": [0.5, 1.0]},\n",
    "    \"LinearSVM\": {\"clf__C\": [0.5, 1.0, 2.0]},\n",
    "    \"KNN\": {\"clf__n_neighbors\": [5, 11], \"clf__weights\": [\"uniform\",\"distance\"]},\n",
    "}"
   ]
  },
  {
   "cell_type": "code",
   "execution_count": 8,
   "id": "eafc5d21-917b-44df-9ffc-61a5c6ebb7a0",
   "metadata": {},
   "outputs": [
    {
     "name": "stdout",
     "output_type": "stream",
     "text": [
      "\n",
      "[Training] NaiveBayes\n",
      "              precision    recall  f1-score   support\n",
      "\n",
      "    negative     0.8882    0.9054    0.8967      5000\n",
      "    positive     0.9035    0.8860    0.8947      5000\n",
      "\n",
      "    accuracy                         0.8957     10000\n",
      "   macro avg     0.8958    0.8957    0.8957     10000\n",
      "weighted avg     0.8958    0.8957    0.8957     10000\n",
      "\n"
     ]
    },
    {
     "data": {
      "image/png": "[encoded data removed]",
      "text/plain": [
       "<Figure size 500x400 with 1 Axes>"
      ]
     },
     "metadata": {},
     "output_type": "display_data"
    },
    {
     "name": "stdout",
     "output_type": "stream",
     "text": [
      "\n",
      "[Training] LinearSVM\n",
      "              precision    recall  f1-score   support\n",
      "\n",
      "    negative     0.9281    0.9162    0.9221      5000\n",
      "    positive     0.9173    0.9290    0.9231      5000\n",
      "\n",
      "    accuracy                         0.9226     10000\n",
      "   macro avg     0.9227    0.9226    0.9226     10000\n",
      "weighted avg     0.9227    0.9226    0.9226     10000\n",
      "\n"
     ]
    },
    {
     "data": {
      "image/png": "[encoded data removed]",
      "text/plain": [
       "<Figure size 500x400 with 1 Axes>"
      ]
     },
     "metadata": {},
     "output_type": "display_data"
    },
    {
     "name": "stdout",
     "output_type": "stream",
     "text": [
      "\n",
      "[Training] KNN\n"
     ]
    },
    {
     "name": "stderr",
     "output_type": "stream",
     "text": [
      "D:\\Users\\Admin\\anaconda3\\Lib\\site-packages\\sklearn\\model_selection\\_search.py:1108: UserWarning: One or more of the test scores are non-finite: [       nan        nan        nan 0.84213644]\n",
      "  warnings.warn(\n"
     ]
    },
    {
     "name": "stdout",
     "output_type": "stream",
     "text": [
      "              precision    recall  f1-score   support\n",
      "\n",
      "    negative     0.8797    0.8102    0.8435      5000\n",
      "    positive     0.8241    0.8892    0.8554      5000\n",
      "\n",
      "    accuracy                         0.8497     10000\n",
      "   macro avg     0.8519    0.8497    0.8495     10000\n",
      "weighted avg     0.8519    0.8497    0.8495     10000\n",
      "\n"
     ]
    },
    {
     "data": {
      "image/png": "[encoded data removed]",
      "text/plain": [
       "<Figure size 500x400 with 1 Axes>"
      ]
     },
     "metadata": {},
     "output_type": "display_data"
    },
    {
     "name": "stdout",
     "output_type": "stream",
     "text": [
      "\n",
      "Best model: LinearSVM F1-macro: 92.26 %\n"
     ]
    }
   ],
   "source": [
    "results = []\n",
    "best_f1 = -1.0\n",
    "best_name = None\n",
    "best_estimator = None\n",
    "\n",
    "cv = StratifiedKFold(n_splits=N_SPLITS, shuffle=True, random_state=RANDOM_STATE)\n",
    "labels_sorted = sorted(y.unique())\n",
    "\n",
    "for name, model in models.items():\n",
    "    print(f\"\\n[Training] {name}\")\n",
    "    pipe = Pipeline([(\"tfidf\", vectorizer), (\"clf\", model)])\n",
    "    grid = GridSearchCV(\n",
    "        pipe, param_grids.get(name, {}), scoring=\"f1_macro\", cv=cv, n_jobs=-1, refit=True\n",
    "    )\n",
    "    grid.fit(X_train, y_train)\n",
    "\n",
    "    y_pred = grid.predict(X_test)\n",
    "    acc = accuracy_score(y_test, y_pred)\n",
    "    f1  = f1_score(y_test, y_pred, average=\"macro\")\n",
    "    prec= precision_score(y_test, y_pred, average=\"macro\", zero_division=0)\n",
    "    rec = recall_score(y_test, y_pred, average=\"macro\", zero_division=0)\n",
    "\n",
    "    print(classification_report(y_test, y_pred, digits=4))\n",
    "\n",
    "    # Confusion matrix plot\n",
    "    cm = confusion_matrix(y_test, y_pred, labels=labels_sorted)\n",
    "    fig, ax = plt.subplots(figsize=(5,4))\n",
    "    ConfusionMatrixDisplay(confusion_matrix=cm, display_labels=labels_sorted).plot(ax=ax, colorbar=False)\n",
    "    plt.title(f\"Confusion Matrix — {name}\")\n",
    "    plt.tight_layout()\n",
    "    plt.show()\n",
    "\n",
    "    results.append({\n",
    "        \"model\": name,\n",
    "        \"best_params\": grid.best_params_,\n",
    "        \"accuracy\": acc,\n",
    "        \"precision\": prec,\n",
    "        \"recall\": rec,\n",
    "        \"f1\": f1\n",
    "    })\n",
    "\n",
    "    if f1 > best_f1:\n",
    "        best_f1 = f1\n",
    "        best_name = name\n",
    "        best_estimator = grid.best_estimator_\n",
    "\n",
    "print(\"\\nBest model:\", best_name, \"F1-macro:\", round(best_f1*100,2), \"%\")"
   ]
  },
  {
   "cell_type": "code",
   "execution_count": 9,
   "id": "79aaf971-895a-4309-ba44-39dbe87765c9",
   "metadata": {
    "scrolled": true
   },
   "outputs": [
    {
     "data": {
      "text/html": [
       "<div>\n",
       "<style scoped>\n",
       "    .dataframe tbody tr th:only-of-type {\n",
       "        vertical-align: middle;\n",
       "    }\n",
       "\n",
       "    .dataframe tbody tr th {\n",
       "        vertical-align: top;\n",
       "    }\n",
       "\n",
       "    .dataframe thead th {\n",
       "        text-align: right;\n",
       "    }\n",
       "</style>\n",
       "<table border=\"1\" class=\"dataframe\">\n",
       "  <thead>\n",
       "    <tr style=\"text-align: right;\">\n",
       "      <th></th>\n",
       "      <th>Model</th>\n",
       "      <th>Accuracy (%)</th>\n",
       "      <th>Precision (%)</th>\n",
       "      <th>Recall (%)</th>\n",
       "      <th>F1-Score (%)</th>\n",
       "    </tr>\n",
       "  </thead>\n",
       "  <tbody>\n",
       "    <tr>\n",
       "      <th>0</th>\n",
       "      <td>NaiveBayes</td>\n",
       "      <td>89.57</td>\n",
       "      <td>89.58</td>\n",
       "      <td>89.57</td>\n",
       "      <td>89.57</td>\n",
       "    </tr>\n",
       "    <tr>\n",
       "      <th>1</th>\n",
       "      <td>LinearSVM</td>\n",
       "      <td>92.26</td>\n",
       "      <td>92.27</td>\n",
       "      <td>92.26</td>\n",
       "      <td>92.26</td>\n",
       "    </tr>\n",
       "    <tr>\n",
       "      <th>2</th>\n",
       "      <td>KNN</td>\n",
       "      <td>84.97</td>\n",
       "      <td>85.19</td>\n",
       "      <td>84.97</td>\n",
       "      <td>84.95</td>\n",
       "    </tr>\n",
       "  </tbody>\n",
       "</table>\n",
       "</div>"
      ],
      "text/plain": [
       "        Model  Accuracy (%)  Precision (%)  Recall (%)  F1-Score (%)\n",
       "0  NaiveBayes         89.57          89.58       89.57         89.57\n",
       "1   LinearSVM         92.26          92.27       92.26         92.26\n",
       "2         KNN         84.97          85.19       84.97         84.95"
      ]
     },
     "metadata": {},
     "output_type": "display_data"
    },
    {
     "name": "stdout",
     "output_type": "stream",
     "text": [
      "Saved: C:\\Users\\Admin\\outputs\\metrics_summary.csv\n"
     ]
    }
   ],
   "source": [
    "metrics_df = pd.DataFrame([\n",
    "    {\"Model\": r[\"model\"],\n",
    "     \"Accuracy (%)\": round(r[\"accuracy\"]*100, 2),\n",
    "     \"Precision (%)\": round(r[\"precision\"]*100, 2),\n",
    "     \"Recall (%)\": round(r[\"recall\"]*100,  2),\n",
    "     \"F1-Score (%)\": round(r[\"f1\"]*100,    2)}\n",
    "    for r in results\n",
    "])\n",
    "display(metrics_df)\n",
    "\n",
    "metrics_path = OUT_DIR / \"metrics_summary.csv\"\n",
    "metrics_df.to_csv(metrics_path, index=False)\n",
    "print(\"Saved:\", metrics_path.resolve())"
   ]
  },
  {
   "cell_type": "code",
   "execution_count": 10,
   "id": "70512221-078c-47ae-b249-836eb0c57773",
   "metadata": {},
   "outputs": [
    {
     "data": {
      "text/plain": [
       "{'best_model': 'LinearSVM',\n",
       " 'best_f1_macro(%)': 92.26,\n",
       " 'model_path': 'models\\\\best_model_LinearSVM.joblib'}"
      ]
     },
     "execution_count": 10,
     "metadata": {},
     "output_type": "execute_result"
    }
   ],
   "source": [
    "assert best_estimator is not None, \"No model trained.\"\n",
    "model_path = MODEL_DIR / f\"best_model_{best_name}.joblib\"\n",
    "joblib.dump(best_estimator, model_path)\n",
    "summary = {\"best_model\": best_name, \"best_f1_macro(%)\": round(best_f1*100,2), \"model_path\": str(model_path)}\n",
    "with open(OUT_DIR / \"summary.json\", \"w\", encoding=\"utf-8\") as f:\n",
    "    json.dump(summary, f, indent=2)\n",
    "summary"
   ]
  },
  {
   "cell_type": "code",
   "execution_count": 12,
   "id": "5bbde40b-2106-4ab7-815a-c2bd370f8fd2",
   "metadata": {},
   "outputs": [
    {
     "ename": "ValueError",
     "evalue": "could not convert string to float: 'i love this so much highly recommended'",
     "output_type": "error",
     "traceback": [
      "\u001b[1;31m---------------------------------------------------------------------------\u001b[0m",
      "\u001b[1;31mValueError\u001b[0m                                Traceback (most recent call last)",
      "Cell \u001b[1;32mIn[12], line 15\u001b[0m\n\u001b[0;32m     12\u001b[0m     \u001b[38;5;28;01mreturn\u001b[39;00m {\u001b[38;5;124m\"\u001b[39m\u001b[38;5;124mtext\u001b[39m\u001b[38;5;124m\"\u001b[39m: text, \u001b[38;5;124m\"\u001b[39m\u001b[38;5;124mprediction\u001b[39m\u001b[38;5;124m\"\u001b[39m: \u001b[38;5;28mstr\u001b[39m(pred), \u001b[38;5;124m\"\u001b[39m\u001b[38;5;124mconfidence\u001b[39m\u001b[38;5;124m\"\u001b[39m: conf}\n\u001b[0;32m     14\u001b[0m loaded \u001b[38;5;241m=\u001b[39m joblib\u001b[38;5;241m.\u001b[39mload(model_path)\n\u001b[1;32m---> 15\u001b[0m predict_text(loaded, \u001b[38;5;124m\"\u001b[39m\u001b[38;5;124mI love this so much, highly recommended!\u001b[39m\u001b[38;5;124m\"\u001b[39m)\n",
      "Cell \u001b[1;32mIn[12], line 9\u001b[0m, in \u001b[0;36mpredict_text\u001b[1;34m(model, text)\u001b[0m\n\u001b[0;32m      7\u001b[0m conf \u001b[38;5;241m=\u001b[39m \u001b[38;5;28;01mNone\u001b[39;00m\n\u001b[0;32m      8\u001b[0m \u001b[38;5;28;01mif\u001b[39;00m \u001b[38;5;28mhasattr\u001b[39m(model\u001b[38;5;241m.\u001b[39mnamed_steps[\u001b[38;5;124m\"\u001b[39m\u001b[38;5;124mclf\u001b[39m\u001b[38;5;124m\"\u001b[39m], \u001b[38;5;124m\"\u001b[39m\u001b[38;5;124mdecision_function\u001b[39m\u001b[38;5;124m\"\u001b[39m):\n\u001b[1;32m----> 9\u001b[0m     dfun \u001b[38;5;241m=\u001b[39m model\u001b[38;5;241m.\u001b[39mnamed_steps[\u001b[38;5;124m\"\u001b[39m\u001b[38;5;124mclf\u001b[39m\u001b[38;5;124m\"\u001b[39m]\u001b[38;5;241m.\u001b[39mdecision_function(series)\n\u001b[0;32m     10\u001b[0m     \u001b[38;5;66;03m# map to [0,1] approx via sigmoid of max margin\u001b[39;00m\n\u001b[0;32m     11\u001b[0m     conf \u001b[38;5;241m=\u001b[39m \u001b[38;5;28mfloat\u001b[39m(\u001b[38;5;241m1\u001b[39m\u001b[38;5;241m/\u001b[39m(\u001b[38;5;241m1\u001b[39m\u001b[38;5;241m+\u001b[39mnp\u001b[38;5;241m.\u001b[39mexp(\u001b[38;5;241m-\u001b[39mnp\u001b[38;5;241m.\u001b[39mmax(dfun)))) \u001b[38;5;28;01mif\u001b[39;00m np\u001b[38;5;241m.\u001b[39mndim(dfun) \u001b[38;5;28;01melse\u001b[39;00m \u001b[38;5;28mfloat\u001b[39m(\u001b[38;5;241m1\u001b[39m\u001b[38;5;241m/\u001b[39m(\u001b[38;5;241m1\u001b[39m\u001b[38;5;241m+\u001b[39mnp\u001b[38;5;241m.\u001b[39mexp(\u001b[38;5;241m-\u001b[39mdfun)))\n",
      "File \u001b[1;32mD:\\Users\\Admin\\anaconda3\\Lib\\site-packages\\sklearn\\linear_model\\_base.py:351\u001b[0m, in \u001b[0;36mLinearClassifierMixin.decision_function\u001b[1;34m(self, X)\u001b[0m\n\u001b[0;32m    348\u001b[0m check_is_fitted(\u001b[38;5;28mself\u001b[39m)\n\u001b[0;32m    349\u001b[0m xp, _ \u001b[38;5;241m=\u001b[39m get_namespace(X)\n\u001b[1;32m--> 351\u001b[0m X \u001b[38;5;241m=\u001b[39m validate_data(\u001b[38;5;28mself\u001b[39m, X, accept_sparse\u001b[38;5;241m=\u001b[39m\u001b[38;5;124m\"\u001b[39m\u001b[38;5;124mcsr\u001b[39m\u001b[38;5;124m\"\u001b[39m, reset\u001b[38;5;241m=\u001b[39m\u001b[38;5;28;01mFalse\u001b[39;00m)\n\u001b[0;32m    352\u001b[0m scores \u001b[38;5;241m=\u001b[39m safe_sparse_dot(X, \u001b[38;5;28mself\u001b[39m\u001b[38;5;241m.\u001b[39mcoef_\u001b[38;5;241m.\u001b[39mT, dense_output\u001b[38;5;241m=\u001b[39m\u001b[38;5;28;01mTrue\u001b[39;00m) \u001b[38;5;241m+\u001b[39m \u001b[38;5;28mself\u001b[39m\u001b[38;5;241m.\u001b[39mintercept_\n\u001b[0;32m    353\u001b[0m \u001b[38;5;28;01mreturn\u001b[39;00m (\n\u001b[0;32m    354\u001b[0m     xp\u001b[38;5;241m.\u001b[39mreshape(scores, (\u001b[38;5;241m-\u001b[39m\u001b[38;5;241m1\u001b[39m,))\n\u001b[0;32m    355\u001b[0m     \u001b[38;5;28;01mif\u001b[39;00m (scores\u001b[38;5;241m.\u001b[39mndim \u001b[38;5;241m>\u001b[39m \u001b[38;5;241m1\u001b[39m \u001b[38;5;129;01mand\u001b[39;00m scores\u001b[38;5;241m.\u001b[39mshape[\u001b[38;5;241m1\u001b[39m] \u001b[38;5;241m==\u001b[39m \u001b[38;5;241m1\u001b[39m)\n\u001b[0;32m    356\u001b[0m     \u001b[38;5;28;01melse\u001b[39;00m scores\n\u001b[0;32m    357\u001b[0m )\n",
      "File \u001b[1;32mD:\\Users\\Admin\\anaconda3\\Lib\\site-packages\\sklearn\\utils\\validation.py:2944\u001b[0m, in \u001b[0;36mvalidate_data\u001b[1;34m(_estimator, X, y, reset, validate_separately, skip_check_array, **check_params)\u001b[0m\n\u001b[0;32m   2942\u001b[0m         out \u001b[38;5;241m=\u001b[39m X, y\n\u001b[0;32m   2943\u001b[0m \u001b[38;5;28;01melif\u001b[39;00m \u001b[38;5;129;01mnot\u001b[39;00m no_val_X \u001b[38;5;129;01mand\u001b[39;00m no_val_y:\n\u001b[1;32m-> 2944\u001b[0m     out \u001b[38;5;241m=\u001b[39m check_array(X, input_name\u001b[38;5;241m=\u001b[39m\u001b[38;5;124m\"\u001b[39m\u001b[38;5;124mX\u001b[39m\u001b[38;5;124m\"\u001b[39m, \u001b[38;5;241m*\u001b[39m\u001b[38;5;241m*\u001b[39mcheck_params)\n\u001b[0;32m   2945\u001b[0m \u001b[38;5;28;01melif\u001b[39;00m no_val_X \u001b[38;5;129;01mand\u001b[39;00m \u001b[38;5;129;01mnot\u001b[39;00m no_val_y:\n\u001b[0;32m   2946\u001b[0m     out \u001b[38;5;241m=\u001b[39m _check_y(y, \u001b[38;5;241m*\u001b[39m\u001b[38;5;241m*\u001b[39mcheck_params)\n",
      "File \u001b[1;32mD:\\Users\\Admin\\anaconda3\\Lib\\site-packages\\sklearn\\utils\\validation.py:1055\u001b[0m, in \u001b[0;36mcheck_array\u001b[1;34m(array, accept_sparse, accept_large_sparse, dtype, order, copy, force_writeable, force_all_finite, ensure_all_finite, ensure_non_negative, ensure_2d, allow_nd, ensure_min_samples, ensure_min_features, estimator, input_name)\u001b[0m\n\u001b[0;32m   1053\u001b[0m         array \u001b[38;5;241m=\u001b[39m xp\u001b[38;5;241m.\u001b[39mastype(array, dtype, copy\u001b[38;5;241m=\u001b[39m\u001b[38;5;28;01mFalse\u001b[39;00m)\n\u001b[0;32m   1054\u001b[0m     \u001b[38;5;28;01melse\u001b[39;00m:\n\u001b[1;32m-> 1055\u001b[0m         array \u001b[38;5;241m=\u001b[39m _asarray_with_order(array, order\u001b[38;5;241m=\u001b[39morder, dtype\u001b[38;5;241m=\u001b[39mdtype, xp\u001b[38;5;241m=\u001b[39mxp)\n\u001b[0;32m   1056\u001b[0m \u001b[38;5;28;01mexcept\u001b[39;00m ComplexWarning \u001b[38;5;28;01mas\u001b[39;00m complex_warning:\n\u001b[0;32m   1057\u001b[0m     \u001b[38;5;28;01mraise\u001b[39;00m \u001b[38;5;167;01mValueError\u001b[39;00m(\n\u001b[0;32m   1058\u001b[0m         \u001b[38;5;124m\"\u001b[39m\u001b[38;5;124mComplex data not supported\u001b[39m\u001b[38;5;130;01m\\n\u001b[39;00m\u001b[38;5;132;01m{}\u001b[39;00m\u001b[38;5;130;01m\\n\u001b[39;00m\u001b[38;5;124m\"\u001b[39m\u001b[38;5;241m.\u001b[39mformat(array)\n\u001b[0;32m   1059\u001b[0m     ) \u001b[38;5;28;01mfrom\u001b[39;00m\u001b[38;5;250m \u001b[39m\u001b[38;5;21;01mcomplex_warning\u001b[39;00m\n",
      "File \u001b[1;32mD:\\Users\\Admin\\anaconda3\\Lib\\site-packages\\sklearn\\utils\\_array_api.py:839\u001b[0m, in \u001b[0;36m_asarray_with_order\u001b[1;34m(array, dtype, order, copy, xp, device)\u001b[0m\n\u001b[0;32m    837\u001b[0m     array \u001b[38;5;241m=\u001b[39m numpy\u001b[38;5;241m.\u001b[39marray(array, order\u001b[38;5;241m=\u001b[39morder, dtype\u001b[38;5;241m=\u001b[39mdtype)\n\u001b[0;32m    838\u001b[0m \u001b[38;5;28;01melse\u001b[39;00m:\n\u001b[1;32m--> 839\u001b[0m     array \u001b[38;5;241m=\u001b[39m numpy\u001b[38;5;241m.\u001b[39masarray(array, order\u001b[38;5;241m=\u001b[39morder, dtype\u001b[38;5;241m=\u001b[39mdtype)\n\u001b[0;32m    841\u001b[0m \u001b[38;5;66;03m# At this point array is a NumPy ndarray. We convert it to an array\u001b[39;00m\n\u001b[0;32m    842\u001b[0m \u001b[38;5;66;03m# container that is consistent with the input's namespace.\u001b[39;00m\n\u001b[0;32m    843\u001b[0m \u001b[38;5;28;01mreturn\u001b[39;00m xp\u001b[38;5;241m.\u001b[39masarray(array)\n",
      "File \u001b[1;32mD:\\Users\\Admin\\anaconda3\\Lib\\site-packages\\pandas\\core\\series.py:1031\u001b[0m, in \u001b[0;36mSeries.__array__\u001b[1;34m(self, dtype, copy)\u001b[0m\n\u001b[0;32m    981\u001b[0m \u001b[38;5;250m\u001b[39m\u001b[38;5;124;03m\"\"\"\u001b[39;00m\n\u001b[0;32m    982\u001b[0m \u001b[38;5;124;03mReturn the values as a NumPy array.\u001b[39;00m\n\u001b[0;32m    983\u001b[0m \n\u001b[1;32m   (...)\u001b[0m\n\u001b[0;32m   1028\u001b[0m \u001b[38;5;124;03m      dtype='datetime64[ns]')\u001b[39;00m\n\u001b[0;32m   1029\u001b[0m \u001b[38;5;124;03m\"\"\"\u001b[39;00m\n\u001b[0;32m   1030\u001b[0m values \u001b[38;5;241m=\u001b[39m \u001b[38;5;28mself\u001b[39m\u001b[38;5;241m.\u001b[39m_values\n\u001b[1;32m-> 1031\u001b[0m arr \u001b[38;5;241m=\u001b[39m np\u001b[38;5;241m.\u001b[39masarray(values, dtype\u001b[38;5;241m=\u001b[39mdtype)\n\u001b[0;32m   1032\u001b[0m \u001b[38;5;28;01mif\u001b[39;00m using_copy_on_write() \u001b[38;5;129;01mand\u001b[39;00m astype_is_view(values\u001b[38;5;241m.\u001b[39mdtype, arr\u001b[38;5;241m.\u001b[39mdtype):\n\u001b[0;32m   1033\u001b[0m     arr \u001b[38;5;241m=\u001b[39m arr\u001b[38;5;241m.\u001b[39mview()\n",
      "\u001b[1;31mValueError\u001b[0m: could not convert string to float: 'i love this so much highly recommended'"
     ]
    }
   ],
   "source": [
    "def predict_text(model, text: str):\n",
    "    t = text.lower()\n",
    "    t = t.translate(str.maketrans(\"\", \"\", string.punctuation))\n",
    "    t = re.sub(r\"\\s+\",\" \", t).strip()\n",
    "    series = pd.Series([t])\n",
    "    pred = model.predict(series)[0]\n",
    "    conf = None\n",
    "    if hasattr(model.named_steps[\"clf\"], \"decision_function\"):\n",
    "        dfun = model.named_steps[\"clf\"].decision_function(series)\n",
    "        # map to [0,1] approx via sigmoid of max margin\n",
    "        conf = float(1/(1+np.exp(-np.max(dfun)))) if np.ndim(dfun) else float(1/(1+np.exp(-dfun)))\n",
    "    return {\"text\": text, \"prediction\": str(pred), \"confidence\": conf}\n",
    "\n",
    "loaded = joblib.load(model_path)\n",
    "predict_text(loaded, \"I love this so much, highly recommended!\")"
   ]
  },
  {
   "cell_type": "code",
   "execution_count": null,
   "id": "60fc9010-0aec-4613-80a4-6e67555a9d4e",
   "metadata": {},
   "outputs": [],
   "source": []
  }
 ],
 "metadata": {
  "kernelspec": {
   "display_name": "Python [conda env:base] *",
   "language": "python",
   "name": "conda-base-py"
  },
  "language_info": {
   "codemirror_mode": {
    "name": "ipython",
    "version": 3
   },
   "file_extension": ".py",
   "mimetype": "text/x-python",
   "name": "python",
   "nbconvert_exporter": "python",
   "pygments_lexer": "ipython3",
   "version": "3.13.5"
  }
 },
 "nbformat": 4,
 "nbformat_minor": 5
}
